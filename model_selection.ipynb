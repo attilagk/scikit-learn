{
 "cells": [
  {
   "cell_type": "code",
   "execution_count": 59,
   "metadata": {},
   "outputs": [],
   "source": [
    "from sklearn import datasets, svm\n",
    "import numpy as np\n",
    "from matplotlib import pyplot as plt\n",
    "%matplotlib inline"
   ]
  },
  {
   "cell_type": "code",
   "execution_count": 14,
   "metadata": {},
   "outputs": [
    {
     "data": {
      "text/plain": [
       "0.98"
      ]
     },
     "execution_count": 14,
     "metadata": {},
     "output_type": "execute_result"
    }
   ],
   "source": [
    "digits = datasets.load_digits()\n",
    "svc = svm.SVC(C=1.0, kernel='linear').fit(X=digits.data[:-100], y=digits.target[:-100])\n",
    "svc.score(X=digits.data[-100:], y=digits.target[-100:])"
   ]
  },
  {
   "cell_type": "code",
   "execution_count": 31,
   "metadata": {},
   "outputs": [
    {
     "data": {
      "text/plain": [
       "[0.9348914858096828, 0.9565943238731218, 0.9398998330550918]"
      ]
     },
     "execution_count": 31,
     "metadata": {},
     "output_type": "execute_result"
    }
   ],
   "source": [
    "X_folds = np.array_split(digits.data, 3)\n",
    "y_folds = np.array_split(digits.target, 3)\n",
    "def threefoldCV(i):\n",
    "    def splitdata(folds):\n",
    "        data = folds.copy()\n",
    "        test = data.pop(i)\n",
    "        train = np.concatenate(data)\n",
    "        d = {'train': train, 'test': test}\n",
    "        return(d)\n",
    "    X = splitdata(X_folds)\n",
    "    y = splitdata(y_folds)\n",
    "    svc = svm.SVC(C=1.0, kernel='linear')\n",
    "    score = svc.fit(X=X['train'], y=y['train']).score(X=X['test'], y=y['test'])\n",
    "    return(score)\n",
    "\n",
    "[threefoldCV(i) for i in range(3)]"
   ]
  },
  {
   "cell_type": "code",
   "execution_count": 52,
   "metadata": {},
   "outputs": [
    {
     "data": {
      "text/plain": [
       "[0.9638888888888889,\n",
       " 0.9222222222222223,\n",
       " 0.9637883008356546,\n",
       " 0.9637883008356546,\n",
       " 0.9303621169916435]"
      ]
     },
     "execution_count": 52,
     "metadata": {},
     "output_type": "execute_result"
    }
   ],
   "source": [
    "from sklearn.model_selection import KFold, cross_val_score\n",
    "def train_score(trainix, testix, dataset, estimator):\n",
    "    X_train = dataset.data[trainix]\n",
    "    X_test = dataset.data[testix]\n",
    "    y_train = dataset.target[trainix]\n",
    "    y_test = dataset.target[testix]\n",
    "    estimator.fit(X=X_train, y=y_train)\n",
    "    score = estimator.score(X=X_test, y=y_test)\n",
    "    return(score)\n",
    "\n",
    "svc = svm.SVC(1.0, kernel='linear')\n",
    "fivefold = KFold(n_splits=5)\n",
    "[train_score(train, test, digits, svc) for train, test in fivefold.split(digits.data)]"
   ]
  },
  {
   "cell_type": "code",
   "execution_count": 53,
   "metadata": {},
   "outputs": [
    {
     "data": {
      "text/plain": [
       "array([0.96388889, 0.92222222, 0.9637883 , 0.9637883 , 0.93036212])"
      ]
     },
     "execution_count": 53,
     "metadata": {},
     "output_type": "execute_result"
    }
   ],
   "source": [
    "svc = svm.SVC(1.0, kernel='linear')\n",
    "cross_val_score(estimator=svc, X=digits.data, y=digits.target, cv=fivefold)"
   ]
  },
  {
   "cell_type": "markdown",
   "metadata": {},
   "source": [
    "### Exercise\n",
    "\n",
    "On the digits dataset, plot the cross-validation score of a [SVC](https://scikit-learn.org/stable/modules/generated/sklearn.svm.SVC.html#sklearn.svm.SVC) estimator with an linear kernel as a function of parameter C (use a logarithmic grid of points, from 1 to 10)"
   ]
  },
  {
   "cell_type": "code",
   "execution_count": 101,
   "metadata": {},
   "outputs": [],
   "source": [
    "xx = 10.0 ** (np.linspace(-10, 0, 100))\n",
    "scores = [cross_val_score(estimator=svm.SVC(C, kernel='linear'), X=digits.data, y=digits.target, cv=fivefold, n_jobs=-1) for C in xx]"
   ]
  },
  {
   "cell_type": "code",
   "execution_count": 107,
   "metadata": {},
   "outputs": [
    {
     "data": {
      "image/png": "[encoded data removed]",
      "text/plain": [
       "<Figure size 432x288 with 1 Axes>"
      ]
     },
     "metadata": {
      "needs_background": "light"
     },
     "output_type": "display_data"
    }
   ],
   "source": [
    "yy = np.array(scores)\n",
    "fig, ax = plt.subplots(1)\n",
    "for i in range(4):\n",
    "    ax.plot(np.logspace(1, 10, 100), yy[:,i])\n",
    "ax.set_xscale('log')"
   ]
  },
  {
   "cell_type": "code",
   "execution_count": 3,
   "metadata": {},
   "outputs": [
    {
     "name": "stdout",
     "output_type": "stream",
     "text": [
      "{\n",
      "  \"shell_port\": 59433,\n",
      "  \"iopub_port\": 42303,\n",
      "  \"stdin_port\": 34729,\n",
      "  \"control_port\": 39771,\n",
      "  \"hb_port\": 34959,\n",
      "  \"ip\": \"127.0.0.1\",\n",
      "  \"key\": \"69bee391-ff60708e40146137d0981604\",\n",
      "  \"transport\": \"tcp\",\n",
      "  \"signature_scheme\": \"hmac-sha256\",\n",
      "  \"kernel_name\": \"\"\n",
      "}\n",
      "\n",
      "Paste the above JSON into a file, and connect with:\n",
      "    $> jupyter <app> --existing <file>\n",
      "or, if you are local, you can connect with just:\n",
      "    $> jupyter <app> --existing kernel-00725e2c-fa6a-4093-8a59-07a5b38bf085.json\n",
      "or even just:\n",
      "    $> jupyter <app> --existing\n",
      "if this is the most recent Jupyter kernel you have started.\n"
     ]
    }
   ],
   "source": [
    "%connect_info"
   ]
  },
  {
   "cell_type": "code",
   "execution_count": null,
   "metadata": {},
   "outputs": [],
   "source": []
  }
 ],
 "metadata": {
  "kernelspec": {
   "display_name": "Python 3",
   "language": "python",
   "name": "python3"
  },
  "language_info": {
   "codemirror_mode": {
    "name": "ipython",
    "version": 3
   },
   "file_extension": ".py",
   "mimetype": "text/x-python",
   "name": "python",
   "nbconvert_exporter": "python",
   "pygments_lexer": "ipython3",
   "version": "3.7.4"
  }
 },
 "nbformat": 4,
 "nbformat_minor": 2
}
