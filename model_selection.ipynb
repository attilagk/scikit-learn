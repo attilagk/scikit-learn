{
 "cells": [
  {
   "cell_type": "code",
   "execution_count": 27,
   "metadata": {},
   "outputs": [],
   "source": [
    "from sklearn import datasets, svm\n",
    "import numpy as np"
   ]
  },
  {
   "cell_type": "markdown",
   "metadata": {},
   "source": [
    "## Score and $k$-fold crossvalidation\n",
    "\n",
    "First let's calculate the score as before!"
   ]
  },
  {
   "cell_type": "code",
   "execution_count": 26,
   "metadata": {},
   "outputs": [
    {
     "data": {
      "text/plain": [
       "0.98"
      ]
     },
     "execution_count": 26,
     "metadata": {},
     "output_type": "execute_result"
    }
   ],
   "source": [
    "svc = svm.SVC(C=1, kernel='linear')\n",
    "svc.fit(X=digits.data[:-100], y=digits.target[:-100])\n",
    "svc.score(X=digits.data[-100:], y=digits.target[-100:])"
   ]
  },
  {
   "cell_type": "markdown",
   "metadata": {},
   "source": [
    "Now repeat this procedure $k-1$ times"
   ]
  },
  {
   "cell_type": "code",
   "execution_count": 67,
   "metadata": {},
   "outputs": [
    {
     "data": {
      "text/plain": [
       "[0.9348914858096828, 0.9565943238731218, 0.9398998330550918]"
      ]
     },
     "execution_count": 67,
     "metadata": {},
     "output_type": "execute_result"
    }
   ],
   "source": [
    "X_folds = np.array_split(digits.data, 3)\n",
    "y_folds = np.array_split(digits.target, 3)\n",
    "def split_2_1(k, data):\n",
    "    train = data.copy()\n",
    "    test = train.pop(k)\n",
    "    train = np.concatenate(train)\n",
    "    res = {'train': train, 'test': test}\n",
    "    return(res)\n",
    "def score_2_1(k, X_folds=X_folds, y_folds=y_folds, cls=svm.SVC(C=1, kernel='linear')):\n",
    "    X = split_2_1(k, X_folds)\n",
    "    y = split_2_1(k, y_folds)\n",
    "    cls.fit(X=X['train'], y=y['train'])\n",
    "    score = cls.score(X=X['test'], y=y['test'])\n",
    "    return(score)\n",
    "[score_2_1(k) for k in range(3)]"
   ]
  },
  {
   "cell_type": "code",
   "execution_count": 2,
   "metadata": {},
   "outputs": [
    {
     "name": "stdout",
     "output_type": "stream",
     "text": [
      "{\n",
      "  \"shell_port\": 39953,\n",
      "  \"iopub_port\": 56643,\n",
      "  \"stdin_port\": 44071,\n",
      "  \"control_port\": 37353,\n",
      "  \"hb_port\": 46839,\n",
      "  \"ip\": \"127.0.0.1\",\n",
      "  \"key\": \"0d67b865-174cbf4754a1f3315b6cecc7\",\n",
      "  \"transport\": \"tcp\",\n",
      "  \"signature_scheme\": \"hmac-sha256\",\n",
      "  \"kernel_name\": \"\"\n",
      "}\n",
      "\n",
      "Paste the above JSON into a file, and connect with:\n",
      "    $> jupyter <app> --existing <file>\n",
      "or, if you are local, you can connect with just:\n",
      "    $> jupyter <app> --existing kernel-df67f196-8fc4-4abd-ba8e-e71d9b19272d.json\n",
      "or even just:\n",
      "    $> jupyter <app> --existing\n",
      "if this is the most recent Jupyter kernel you have started.\n"
     ]
    }
   ],
   "source": [
    "%connect_info"
   ]
  },
  {
   "cell_type": "code",
   "execution_count": null,
   "metadata": {},
   "outputs": [],
   "source": []
  }
 ],
 "metadata": {
  "kernelspec": {
   "display_name": "Python 3",
   "language": "python",
   "name": "python3"
  },
  "language_info": {
   "codemirror_mode": {
    "name": "ipython",
    "version": 3
   },
   "file_extension": ".py",
   "mimetype": "text/x-python",
   "name": "python",
   "nbconvert_exporter": "python",
   "pygments_lexer": "ipython3",
   "version": "3.7.4"
  }
 },
 "nbformat": 4,
 "nbformat_minor": 2
}
